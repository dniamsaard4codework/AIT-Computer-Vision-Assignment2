{
 "cells": [
  {
   "cell_type": "markdown",
   "id": "850c59a2",
   "metadata": {},
   "source": [
    "# Object Tracking\n",
    "\n",
    "## Task 3: Classical Object Tracking using OpenCV\n",
    "\n",
    "by Dechathon Niamsa-ard [st126235]"
   ]
  },
  {
   "cell_type": "markdown",
   "id": "b78366b9",
   "metadata": {},
   "source": [
    "**Goal:** Implement traditional tracking algorithms using OpenCV.\n",
    "\n",
    "**Suggested Trackers:**\n",
    "\n",
    "- KCF\n",
    "- CSRT\n",
    "- MOSSE\n",
    "\n",
    "**Instructions:**\n",
    "\n",
    "1. Use a **short video** (e.g., pedestrians, cars, or sports).\n",
    "- You can download public videos from [Pexels Videos] or [MOT Challenge dataset].\n",
    "2. Define an initial bounding box.\n",
    "3. Apply **two different OpenCV trackers** (e.g., KCF and CSRT).\n",
    "4. Compare:\n",
    "- Tracking stability\n",
    "- Frame rate (FPS)\n",
    "- Failure cases (drift, loss, occlusion)\n",
    "\n",
    "**Deliverables:**\n",
    "\n",
    "- Output video or GIF with tracking visualization\n",
    "- Comparison table (FPS, success rate, drift cases)\n",
    "- Short discussion on performance trade-offs\n",
    "\n",
    "---\n"
   ]
  },
  {
   "cell_type": "markdown",
   "id": "3a729aed",
   "metadata": {},
   "source": [
    "## Import necessary libraries"
   ]
  },
  {
   "cell_type": "code",
   "execution_count": null,
   "id": "aa24309f",
   "metadata": {},
   "outputs": [],
   "source": [
    "# Import necessary libraries\n",
    "import os\n",
    "import cv2\n",
    "import numpy as np\n",
    "import sys\n",
    "import time "
   ]
  },
  {
   "cell_type": "markdown",
   "id": "5b227105",
   "metadata": {},
   "source": [
    "## Setup config"
   ]
  },
  {
   "cell_type": "code",
   "execution_count": null,
   "id": "9384d05c",
   "metadata": {},
   "outputs": [],
   "source": [
    "# Set up OUTPUT_DIR\n",
    "OUTPUT_DIR = './files_task3/'\n",
    "test_video_path = './files_task3/test_video.mp4'"
   ]
  },
  {
   "cell_type": "code",
   "execution_count": null,
   "id": "5c647a89",
   "metadata": {},
   "outputs": [],
   "source": [
    "# Create OUTPUT_DIR if it doesn't exist\n",
    "if not os.path.exists(OUTPUT_DIR):\n",
    "    os.makedirs(OUTPUT_DIR)"
   ]
  },
  {
   "cell_type": "code",
   "execution_count": null,
   "id": "097c1926",
   "metadata": {},
   "outputs": [],
   "source": [
    "# Set up name of the output video file for each type of detection\n",
    "\n",
    "# KCF Tracker output video file\n",
    "kcf_output_video_path = os.path.join(OUTPUT_DIR, 'kcf_output_video.mp4')\n",
    "# CSRT Tracker output video file\n",
    "csrt_output_video_path = os.path.join(OUTPUT_DIR, 'csrt_output_video.mp4')\n",
    "# MOSSE Tracker output video file\n",
    "mosse_output_video_path = os.path.join(OUTPUT_DIR, 'mosse_output_video.mp4')"
   ]
  },
  {
   "cell_type": "markdown",
   "id": "077f5a18",
   "metadata": {},
   "source": [
    "## Download short video"
   ]
  },
  {
   "cell_type": "code",
   "execution_count": null,
   "id": "076a3ff2",
   "metadata": {},
   "outputs": [],
   "source": [
    "# Load the video\n",
    "video = cv2.VideoCapture(test_video_path)\n",
    "if not video.isOpened():\n",
    "    print(\"Error: Could not open video.\")\n",
    "    sys.exit()"
   ]
  },
  {
   "cell_type": "markdown",
   "id": "3547074d",
   "metadata": {},
   "source": [
    "## Define initial bounding box"
   ]
  },
  {
   "cell_type": "code",
   "execution_count": null,
   "id": "a45b9268",
   "metadata": {},
   "outputs": [],
   "source": [
    "# Define initial bounding box\n"
   ]
  },
  {
   "cell_type": "markdown",
   "id": "dbb0f092",
   "metadata": {},
   "source": [
    "## Apply different OpenCV trackers (KCF, CSRT, MOSSE)"
   ]
  },
  {
   "cell_type": "markdown",
   "id": "be79824f",
   "metadata": {},
   "source": [
    "## Make Comparison\n",
    "- Tracking stability\n",
    "- Frame rate (FPS)\n",
    "- Failure cases (drift, loss, occlusion)"
   ]
  },
  {
   "cell_type": "markdown",
   "id": "33b93256",
   "metadata": {},
   "source": [
    "## Short discussion on performance trade-offs"
   ]
  },
  {
   "cell_type": "markdown",
   "id": "8bb94857",
   "metadata": {},
   "source": []
  }
 ],
 "metadata": {
  "kernelspec": {
   "display_name": "ait",
   "language": "python",
   "name": "python3"
  },
  "language_info": {
   "name": "python",
   "version": "3.13.9"
  }
 },
 "nbformat": 4,
 "nbformat_minor": 5
}
